{
 "cells": [
  {
   "cell_type": "code",
   "execution_count": null,
   "metadata": {},
   "outputs": [],
   "source": [
    "import json\n",
    "\n",
    "with open(\"CNTR_RG_10M_2020_4326.geojson\", encoding=\"utf8\") as geojson:\n",
    "    data = json.load(geojson)\n",
    "data"
   ]
  },
  {
   "cell_type": "code",
   "execution_count": null,
   "metadata": {},
   "outputs": [],
   "source": [
    "eu_countries = {\n",
    "    \"BE\": \"Hondt com um círculo eleitoral.\",\n",
    "    \"BG\": \"Hondt com um círculo eleitoral.\",\n",
    "    \"CZ\": \"Hondt com um círculo eleitoral.\",\n",
    "    \"DK\": \"Hondt com um círculo eleitoral.\",\n",
    "    \"DE\": \"Hondt com um círculo eleitoral.\",\n",
    "    \"EE\": \"Hondt com um círculo eleitoral.\",\n",
    "    \"IE\": \"Hondt com um círculo eleitoral.\",\n",
    "    \"EL\": \"Hondt com um círculo eleitoral.\",\n",
    "    \"ES\": \"Hondt com um círculo eleitoral.\",\n",
    "    \"FR\": \"Hondt com um círculo eleitoral.\",\n",
    "    \"HR\": \"Hondt com um círculo eleitoral.\",\n",
    "    \"IT\": \"Hondt com um círculo eleitoral.\",\n",
    "    \"CY\": \"Hondt com um círculo eleitoral.\",\n",
    "    \"LV\": \"Hondt com um círculo eleitoral.\",\n",
    "    \"LT\": \"Hondt com um círculo eleitoral.\",\n",
    "    \"LU\": \"Hondt com um círculo eleitoral.\",\n",
    "    \"HU\": \"Hondt com um círculo eleitoral.\",\n",
    "    \"MT\": \"Hondt com um círculo eleitoral.\",\n",
    "    \"NL\": \"Hondt com um círculo eleitoral.\",\n",
    "    \"AT\": \"Hondt com um círculo eleitoral.\",\n",
    "    \"PL\": \"Hondt com um círculo eleitoral.\",\n",
    "    \"PT\": \"Hondt com um círculo eleitoral.\",\n",
    "    \"RO\": \"Hondt com um círculo eleitoral.\",\n",
    "    \"SI\": \"Hondt com um círculo eleitoral.\",\n",
    "    \"SK\": \"Hondt com um círculo eleitoral.\",\n",
    "    \"FI\": \"Hondt com um círculo eleitoral.\",\n",
    "    \"SE\": \"Hondt com um círculo eleitoral.\",\n",
    "}\n",
    "\n",
    "others = [\n",
    "    \"IS\",\n",
    "    \"RS\",\n",
    "    \"NO\",\n",
    "    \"LI\",\n",
    "    \"CH\",\n",
    "    \"UK\",\n",
    "    \"BA\",\n",
    "    \"ME\",\n",
    "    \"MD\",\n",
    "    \"MK\",\n",
    "    \"AL\",\n",
    "    \"TR\",\n",
    "    \"UA\",\n",
    "    \"BY\",\n",
    "    \"DZ\",\n",
    "    \"MA\",\n",
    "    \"TN\",\n",
    "    \"LY\"\n",
    "]"
   ]
  },
  {
   "cell_type": "code",
   "execution_count": null,
   "metadata": {},
   "outputs": [],
   "source": [
    "type(data[\"features\"])"
   ]
  },
  {
   "cell_type": "code",
   "execution_count": null,
   "metadata": {},
   "outputs": [],
   "source": [
    "new_countries = []\n",
    "\n",
    "for country in data['features']:\n",
    "\n",
    "    del country['properties']['CNTR_NAME']\n",
    "    del country['properties']['NAME_FREN']\n",
    "    del country['properties']['ISO3_CODE']\n",
    "    del country['properties']['SVRG_UN' ]\n",
    "    del country['properties']['CAPT' ]\n",
    "    del country['properties']['EFTA_STAT']\n",
    "    del country['properties']['CC_STAT']\n",
    "    del country['properties']['NAME_GERM']\n",
    "    del country['properties']['FID']\n",
    "\n",
    "    if country['properties']['CNTR_ID'] in eu_countries:\n",
    "        country['properties'][\"Color\"] = \"#BFD0E4\"\n",
    "        country['properties']['method'] = eu_countries[country['properties']['CNTR_ID']]\n",
    "        new_countries.append(country)\n",
    "\n",
    "    elif country['properties']['CNTR_ID'] in others:\n",
    "        country['properties'][\"Color\"] = \"#D9D9D9\"\n",
    "        new_countries.append(country)\n",
    "\n",
    "new_countries"
   ]
  },
  {
   "cell_type": "code",
   "execution_count": null,
   "metadata": {},
   "outputs": [],
   "source": [
    "data['features'] = new_countries\n",
    "data"
   ]
  },
  {
   "cell_type": "code",
   "execution_count": null,
   "metadata": {},
   "outputs": [],
   "source": [
    "with open(\"custom_eu.geojson\", 'w') as new_file:\n",
    "    json.dump(data, new_file)"
   ]
  }
 ],
 "metadata": {
  "kernelspec": {
   "display_name": "Python 3",
   "language": "python",
   "name": "python3"
  },
  "language_info": {
   "codemirror_mode": {
    "name": "ipython",
    "version": 3
   },
   "file_extension": ".py",
   "mimetype": "text/x-python",
   "name": "python",
   "nbconvert_exporter": "python",
   "pygments_lexer": "ipython3",
   "version": "3.8.7"
  },
  "orig_nbformat": 4
 },
 "nbformat": 4,
 "nbformat_minor": 2
}
